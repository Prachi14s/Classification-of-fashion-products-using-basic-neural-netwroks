{
  "nbformat": 4,
  "nbformat_minor": 0,
  "metadata": {
    "colab": {
      "name": "Basic_neural_networks.ipynb",
      "provenance": []
    },
    "kernelspec": {
      "name": "python3",
      "display_name": "Python 3"
    }
  },
  "cells": [
    {
      "cell_type": "code",
      "metadata": {
        "id": "dwHzWIEmXTKt",
        "colab_type": "code",
        "colab": {}
      },
      "source": [
        "!pip install -q tensorflow==2.0.0-alpha0"
      ],
      "execution_count": 16,
      "outputs": []
    },
    {
      "cell_type": "code",
      "metadata": {
        "id": "aduMLISTXhO-",
        "colab_type": "code",
        "colab": {}
      },
      "source": [
        "#Keras Datasets"
      ],
      "execution_count": 17,
      "outputs": []
    },
    {
      "cell_type": "code",
      "metadata": {
        "id": "aGsFfu5XXh0u",
        "colab_type": "code",
        "colab": {}
      },
      "source": [
        "import tensorflow as tf \n",
        "from tensorflow import keras\n",
        "import numpy as np \n",
        "import matplotlib.pyplot as plt\n",
        "\n",
        "data = keras.datasets.fashion_mnist"
      ],
      "execution_count": 18,
      "outputs": []
    },
    {
      "cell_type": "code",
      "metadata": {
        "id": "JTkY_5ZAXlep",
        "colab_type": "code",
        "colab": {}
      },
      "source": [
        "#splitting data\n",
        "(train_images, train_labels), (test_images, test_labels) = data.load_data()"
      ],
      "execution_count": 19,
      "outputs": []
    },
    {
      "cell_type": "code",
      "metadata": {
        "id": "qYKEgf9iXlki",
        "colab_type": "code",
        "colab": {}
      },
      "source": [
        "#Finally we will define a list of the class names and pre-process images. We do this by dividing each image by 255. Since each image is greyscale we are simply scaling the pixel values down to make computations easier for our model.\n",
        "class_names = ['T-shirt/top', 'Trouser', 'Pullover', 'Dress', 'Coat',\n",
        "               'Sandal', 'Shirt', 'Sneaker', 'Bag', 'Ankle boot']\n",
        "\n",
        "train_images = train_images/255.0\n",
        "test_images = test_images/255.0"
      ],
      "execution_count": 20,
      "outputs": []
    },
    {
      "cell_type": "code",
      "metadata": {
        "id": "cENyXfKtXlrc",
        "colab_type": "code",
        "colab": {}
      },
      "source": [
        "# Creating the Model\n",
        "# Now time to create our first neural network model! We will do this by using the Sequential object from keras. A Sequential model simply defines a sequence of layers starting with the input layer and ending with the output layer. Our model will have 3 layers, and input layer of 784 neurons (representing all of the 28x28 pixels in a picture) a hidden layer of an arbitrary 128 neurons and an output layer of 10 neurons representing the probability of the picture being each of the 10 classes.\n",
        "\n",
        "model = keras.Sequential([\n",
        "\tkeras.layers.Flatten(input_shape=(28,28)),\n",
        "\tkeras.layers.Dense(128, activation=\"relu\"),\n",
        "\tkeras.layers.Dense(10, activation=\"softmax\")\n",
        "\t])"
      ],
      "execution_count": 21,
      "outputs": []
    },
    {
      "cell_type": "code",
      "metadata": {
        "id": "qPCFshk9Xlxo",
        "colab_type": "code",
        "colab": {
          "base_uri": "https://localhost:8080/",
          "height": 1000
        },
        "outputId": "0c7553ff-4e5a-490d-8343-f935cefd86f6"
      },
      "source": [
        "# training and fitting model\n",
        "model.compile(optimizer=\"adam\", loss=\"sparse_categorical_crossentropy\", metrics=[\"accuracy\"])\n",
        "\n",
        "model.fit(train_images, train_labels, epochs=35)"
      ],
      "execution_count": 24,
      "outputs": [
        {
          "output_type": "stream",
          "text": [
            "Epoch 1/35\n",
            "60000/60000 [==============================] - 5s 76us/sample - loss: 0.1756 - accuracy: 0.9349\n",
            "Epoch 2/35\n",
            "60000/60000 [==============================] - 4s 74us/sample - loss: 0.1716 - accuracy: 0.9358\n",
            "Epoch 3/35\n",
            "60000/60000 [==============================] - 4s 74us/sample - loss: 0.1676 - accuracy: 0.9369\n",
            "Epoch 4/35\n",
            "60000/60000 [==============================] - 4s 74us/sample - loss: 0.1630 - accuracy: 0.9388\n",
            "Epoch 5/35\n",
            "60000/60000 [==============================] - 4s 75us/sample - loss: 0.1585 - accuracy: 0.9398\n",
            "Epoch 6/35\n",
            "60000/60000 [==============================] - 4s 74us/sample - loss: 0.1551 - accuracy: 0.9420\n",
            "Epoch 7/35\n",
            "60000/60000 [==============================] - 5s 78us/sample - loss: 0.1508 - accuracy: 0.9437\n",
            "Epoch 8/35\n",
            "60000/60000 [==============================] - 5s 80us/sample - loss: 0.1490 - accuracy: 0.9436\n",
            "Epoch 9/35\n",
            "60000/60000 [==============================] - 5s 77us/sample - loss: 0.1447 - accuracy: 0.9454\n",
            "Epoch 10/35\n",
            "60000/60000 [==============================] - 4s 74us/sample - loss: 0.1427 - accuracy: 0.9461\n",
            "Epoch 11/35\n",
            "60000/60000 [==============================] - 4s 74us/sample - loss: 0.1399 - accuracy: 0.9476\n",
            "Epoch 12/35\n",
            "60000/60000 [==============================] - 4s 75us/sample - loss: 0.1371 - accuracy: 0.9486\n",
            "Epoch 13/35\n",
            "60000/60000 [==============================] - 4s 75us/sample - loss: 0.1328 - accuracy: 0.9505\n",
            "Epoch 14/35\n",
            "60000/60000 [==============================] - 5s 75us/sample - loss: 0.1301 - accuracy: 0.9515\n",
            "Epoch 15/35\n",
            "60000/60000 [==============================] - 4s 75us/sample - loss: 0.1280 - accuracy: 0.9525\n",
            "Epoch 16/35\n",
            "60000/60000 [==============================] - 5s 75us/sample - loss: 0.1253 - accuracy: 0.9519\n",
            "Epoch 17/35\n",
            "60000/60000 [==============================] - 4s 75us/sample - loss: 0.1223 - accuracy: 0.9546\n",
            "Epoch 18/35\n",
            "60000/60000 [==============================] - 5s 75us/sample - loss: 0.1216 - accuracy: 0.9552\n",
            "Epoch 19/35\n",
            "60000/60000 [==============================] - 4s 75us/sample - loss: 0.1178 - accuracy: 0.9556\n",
            "Epoch 20/35\n",
            "60000/60000 [==============================] - 4s 75us/sample - loss: 0.1172 - accuracy: 0.9556\n",
            "Epoch 21/35\n",
            "60000/60000 [==============================] - 5s 77us/sample - loss: 0.1129 - accuracy: 0.9585\n",
            "Epoch 22/35\n",
            "60000/60000 [==============================] - 4s 73us/sample - loss: 0.1125 - accuracy: 0.9577\n",
            "Epoch 23/35\n",
            "60000/60000 [==============================] - 4s 74us/sample - loss: 0.1102 - accuracy: 0.9584\n",
            "Epoch 24/35\n",
            "60000/60000 [==============================] - 4s 73us/sample - loss: 0.1079 - accuracy: 0.9603\n",
            "Epoch 25/35\n",
            "60000/60000 [==============================] - 4s 73us/sample - loss: 0.1067 - accuracy: 0.9604\n",
            "Epoch 26/35\n",
            "60000/60000 [==============================] - 4s 73us/sample - loss: 0.1051 - accuracy: 0.9602\n",
            "Epoch 27/35\n",
            "60000/60000 [==============================] - 4s 73us/sample - loss: 0.1030 - accuracy: 0.9607\n",
            "Epoch 28/35\n",
            "60000/60000 [==============================] - 4s 73us/sample - loss: 0.1017 - accuracy: 0.9616\n",
            "Epoch 29/35\n",
            "60000/60000 [==============================] - 4s 73us/sample - loss: 0.0989 - accuracy: 0.9632\n",
            "Epoch 30/35\n",
            "60000/60000 [==============================] - 4s 74us/sample - loss: 0.0980 - accuracy: 0.9630\n",
            "Epoch 31/35\n",
            "60000/60000 [==============================] - 4s 74us/sample - loss: 0.0961 - accuracy: 0.9638\n",
            "Epoch 32/35\n",
            "60000/60000 [==============================] - 4s 74us/sample - loss: 0.0933 - accuracy: 0.9650\n",
            "Epoch 33/35\n",
            "60000/60000 [==============================] - 4s 74us/sample - loss: 0.0908 - accuracy: 0.9658\n",
            "Epoch 34/35\n",
            "60000/60000 [==============================] - 4s 73us/sample - loss: 0.0895 - accuracy: 0.9667\n",
            "Epoch 35/35\n",
            "60000/60000 [==============================] - 4s 74us/sample - loss: 0.0919 - accuracy: 0.9657\n"
          ],
          "name": "stdout"
        },
        {
          "output_type": "execute_result",
          "data": {
            "text/plain": [
              "<tensorflow.python.keras.callbacks.History at 0x7ff3e3693518>"
            ]
          },
          "metadata": {
            "tags": []
          },
          "execution_count": 24
        }
      ]
    },
    {
      "cell_type": "code",
      "metadata": {
        "id": "WEZ8o3lkXl8-",
        "colab_type": "code",
        "colab": {
          "base_uri": "https://localhost:8080/",
          "height": 68
        },
        "outputId": "6d610018-4cfb-49ae-ab56-87ff40f955e9"
      },
      "source": [
        "# testing the model\n",
        "\n",
        "test_loss, test_acc = model.evaluate(test_images, test_labels)\n",
        "\n",
        "print('\\nTest accuracy:', test_acc)"
      ],
      "execution_count": 25,
      "outputs": [
        {
          "output_type": "stream",
          "text": [
            "10000/10000 [==============================] - 0s 41us/sample - loss: 0.5340 - accuracy: 0.8855\n",
            "\n",
            "Test accuracy: 0.8855\n"
          ],
          "name": "stdout"
        }
      ]
    },
    {
      "cell_type": "code",
      "metadata": {
        "id": "C8vdThb_XmEo",
        "colab_type": "code",
        "colab": {}
      },
      "source": [
        "# making predictions\n",
        "\n",
        "predictions = model.predict(test_images)"
      ],
      "execution_count": 26,
      "outputs": []
    },
    {
      "cell_type": "code",
      "metadata": {
        "id": "WkgEUR1_XmML",
        "colab_type": "code",
        "colab": {
          "base_uri": "https://localhost:8080/",
          "height": 1000
        },
        "outputId": "ca689034-a43f-4414-fe9d-02d5510948f4"
      },
      "source": [
        "plt.figure(figsize=(5,5))   # predictions on first 5 images\n",
        "for i in range(5):\n",
        "    plt.grid(False)\n",
        "    plt.imshow(test_images[i], cmap=plt.cm.binary)\n",
        "    plt.xlabel(\"Actual is \" + class_names[test_labels[i]])\n",
        "    plt.title(\"Predicted is \" + class_names[np.argmax(predictions[i])])\n",
        "    plt.show()"
      ],
      "execution_count": 29,
      "outputs": [
        {
          "output_type": "display_data",
          "data": {
            "image/png": "[encoded data removed]",
            "text/plain": [
              "<Figure size 360x360 with 1 Axes>"
            ]
          },
          "metadata": {
            "tags": [],
            "needs_background": "light"
          }
        },
        {
          "output_type": "display_data",
          "data": {
            "image/png": "[encoded data removed]",
            "text/plain": [
              "<Figure size 432x288 with 1 Axes>"
            ]
          },
          "metadata": {
            "tags": [],
            "needs_background": "light"
          }
        },
        {
          "output_type": "display_data",
          "data": {
            "image/png": "[encoded data removed]",
            "text/plain": [
              "<Figure size 432x288 with 1 Axes>"
            ]
          },
          "metadata": {
            "tags": [],
            "needs_background": "light"
          }
        },
        {
          "output_type": "display_data",
          "data": {
            "image/png": "[encoded data removed]",
            "text/plain": [
              "<Figure size 432x288 with 1 Axes>"
            ]
          },
          "metadata": {
            "tags": [],
            "needs_background": "light"
          }
        },
        {
          "output_type": "display_data",
          "data": {
            "image/png": "[encoded data removed]",
            "text/plain": [
              "<Figure size 432x288 with 1 Axes>"
            ]
          },
          "metadata": {
            "tags": [],
            "needs_background": "light"
          }
        }
      ]
    },
    {
      "cell_type": "code",
      "metadata": {
        "id": "XnuVWiu8XmZJ",
        "colab_type": "code",
        "colab": {}
      },
      "source": [
        ""
      ],
      "execution_count": null,
      "outputs": []
    },
    {
      "cell_type": "code",
      "metadata": {
        "id": "Lp38aM9-XmlD",
        "colab_type": "code",
        "colab": {}
      },
      "source": [
        ""
      ],
      "execution_count": null,
      "outputs": []
    },
    {
      "cell_type": "code",
      "metadata": {
        "id": "4YABi8uGXmxx",
        "colab_type": "code",
        "colab": {}
      },
      "source": [
        ""
      ],
      "execution_count": null,
      "outputs": []
    },
    {
      "cell_type": "code",
      "metadata": {
        "id": "NoAlQFEMXmuE",
        "colab_type": "code",
        "colab": {}
      },
      "source": [
        ""
      ],
      "execution_count": null,
      "outputs": []
    },
    {
      "cell_type": "code",
      "metadata": {
        "id": "Xy17IW-BXmq9",
        "colab_type": "code",
        "colab": {}
      },
      "source": [
        ""
      ],
      "execution_count": null,
      "outputs": []
    },
    {
      "cell_type": "code",
      "metadata": {
        "id": "5nv4zIvcXmgg",
        "colab_type": "code",
        "colab": {}
      },
      "source": [
        ""
      ],
      "execution_count": null,
      "outputs": []
    },
    {
      "cell_type": "code",
      "metadata": {
        "id": "rkGMwGNrXmUW",
        "colab_type": "code",
        "colab": {}
      },
      "source": [
        ""
      ],
      "execution_count": null,
      "outputs": []
    },
    {
      "cell_type": "code",
      "metadata": {
        "id": "z-rGfd92Xl3n",
        "colab_type": "code",
        "colab": {}
      },
      "source": [
        ""
      ],
      "execution_count": null,
      "outputs": []
    },
    {
      "cell_type": "code",
      "metadata": {
        "id": "4NRxU_0RXhxK",
        "colab_type": "code",
        "colab": {}
      },
      "source": [
        ""
      ],
      "execution_count": null,
      "outputs": []
    },
    {
      "cell_type": "code",
      "metadata": {
        "id": "f_CoktY5Xhvb",
        "colab_type": "code",
        "colab": {}
      },
      "source": [
        ""
      ],
      "execution_count": null,
      "outputs": []
    },
    {
      "cell_type": "code",
      "metadata": {
        "id": "5xB_DZWzXhnt",
        "colab_type": "code",
        "colab": {}
      },
      "source": [
        ""
      ],
      "execution_count": null,
      "outputs": []
    }
  ]
}